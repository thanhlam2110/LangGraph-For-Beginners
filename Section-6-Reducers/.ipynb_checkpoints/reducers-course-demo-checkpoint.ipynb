{
 "cells": [
  {
   "cell_type": "code",
   "execution_count": 2,
   "id": "1dd0f61b-3454-4b5e-9e23-980388b148b7",
   "metadata": {},
   "outputs": [
    {
     "name": "stdout",
     "output_type": "stream",
     "text": [
      "🤖 **Bot:** I want to buy your product.\n",
      "🤖 **Bot:** Great! Let me connect you with our sales team right away. 🚀\n",
      "🤖 **Bot:** We have the best offer for you 🚀\n",
      "Final Discount:  30 %\n"
     ]
    }
   ],
   "source": [
    "from typing import Annotated, TypedDict\n",
    "from langchain_core.messages import AnyMessage\n",
    "from operator import add\n",
    "from langgraph.graph import END, START, StateGraph\n",
    "from langchain_core.messages import AIMessage, HumanMessage\n",
    "from IPython.display import Image, display\n",
    "\n",
    "# Define chatbot state with accumulated messages\n",
    "class ChatBotState(TypedDict):\n",
    "    messages: Annotated[list[AnyMessage],add]\n",
    "    discount: Annotated[int,add]\n",
    "\n",
    "\n",
    "# Responses based on intent level\n",
    "def connect_to_sales(state: ChatBotState):\n",
    "    return {\"messages\": [AIMessage(content=\"Great! Let me connect you with our sales team right away. 🚀\")],\n",
    "            \"discount\": 10}\n",
    "\n",
    "\n",
    "def sales_response(state: ChatBotState):\n",
    "    return {\"messages\": [AIMessage(content=\"We have the best offer for you 🚀\")],\n",
    "            \"discount\": 20}\n",
    "\n",
    "\n",
    "# Build chatbot conversation flow\n",
    "graph_builder = StateGraph(ChatBotState)\n",
    "\n",
    "# Add nodes\n",
    "\n",
    "graph_builder.add_node(\"connect_to_sales\", connect_to_sales)\n",
    "graph_builder.add_node(\"sales_response\", sales_response)\n",
    "\n",
    "# Define conversation flow\n",
    "graph_builder.add_edge(START, \"connect_to_sales\")\n",
    "graph_builder.add_edge(\"connect_to_sales\", \"sales_response\")\n",
    "graph_builder.add_edge(\"sales_response\", END)\n",
    "\n",
    "# Compile chatbot\n",
    "chatbot = graph_builder.compile()\n",
    "# Display graph\n",
    "try:\n",
    "    display(Image(chatbot.get_graph().draw_png()))\n",
    "except Exception:\n",
    "    pass\n",
    "# Simulate different conversations\n",
    "test_inputs = \"I want to buy your product.\"\n",
    "\n",
    "\n",
    "messages = chatbot.invoke({\"messages\": [HumanMessage(content=test_inputs)]})\n",
    "\n",
    "for message in messages[\"messages\"]:\n",
    "    print(f\"🤖 **Bot:** {message.content}\")\n",
    "\n",
    "\n",
    "print(\"Final Discount: \",messages['discount'],'%')"
   ]
  }
 ],
 "metadata": {
  "kernelspec": {
   "display_name": "Python 3 (ipykernel)",
   "language": "python",
   "name": "python3"
  },
  "language_info": {
   "codemirror_mode": {
    "name": "ipython",
    "version": 3
   },
   "file_extension": ".py",
   "mimetype": "text/x-python",
   "name": "python",
   "nbconvert_exporter": "python",
   "pygments_lexer": "ipython3",
   "version": "3.10.16"
  }
 },
 "nbformat": 4,
 "nbformat_minor": 5
}
