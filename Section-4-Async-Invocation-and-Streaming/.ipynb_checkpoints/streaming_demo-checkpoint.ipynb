{
 "cells": [
  {
   "cell_type": "code",
   "execution_count": 27,
   "id": "c0b70d2d-6d84-4a1e-9cbc-3c4b4df9081b",
   "metadata": {},
   "outputs": [],
   "source": [
    "from typing import TypedDict\n",
    "from langgraph.graph import END, START, StateGraph\n",
    "from langgraph.types import StreamWriter\n",
    "\n",
    "\n",
    "class HelloWorldState(TypedDict):\n",
    "    message: str\n",
    "\n",
    "\n",
    "def hello(state: HelloWorldState, writer: StreamWriter):\n",
    "    # TODO: Write Custom Keys\n",
    "    writer({\"custom_key\": \"custom_value\"}) # USE FOR custom MODE\n",
    "    return {\"message\": \"Hello \" + state['message']}\n",
    "\n",
    "\n",
    "def bye(state: HelloWorldState):\n",
    "    return {\"message\": \"Bye \" + state['message']}\n",
    "\n",
    "\n",
    "graph = StateGraph(HelloWorldState)\n",
    "graph.add_node(\"hello\", hello)\n",
    "graph.add_node(\"bye\", bye)\n",
    "\n",
    "graph.add_edge(START, \"hello\")\n",
    "graph.add_edge(\"hello\", \"bye\")\n",
    "graph.add_edge(\"bye\", END)\n",
    "\n",
    "runnable = graph.compile()"
   ]
  },
  {
   "cell_type": "code",
   "execution_count": 28,
   "id": "c00e7397-17c2-4fe3-be62-c14efe422779",
   "metadata": {},
   "outputs": [
    {
     "name": "stdout",
     "output_type": "stream",
     "text": [
      "{'message': 'Lam'}\n",
      "{'message': 'Hello Lam'}\n",
      "{'message': 'Bye Hello Lam'}\n"
     ]
    }
   ],
   "source": [
    "# stream_mode=\"value\"\n",
    "for chunk in runnable.stream({\"message\": \"Lam\"},stream_mode=\"values\"):\n",
    "    print(chunk)"
   ]
  },
  {
   "cell_type": "code",
   "execution_count": 29,
   "id": "c7472748-ad84-482b-9525-1fc92810a4ff",
   "metadata": {},
   "outputs": [
    {
     "name": "stdout",
     "output_type": "stream",
     "text": [
      "{'hello': {'message': 'Hello Lam'}}\n",
      "{'bye': {'message': 'Bye Hello Lam'}}\n"
     ]
    }
   ],
   "source": [
    "for chunk in runnable.stream({\"message\": \"Lam\"},stream_mode=\"updates\"):\n",
    "    print(chunk)"
   ]
  },
  {
   "cell_type": "code",
   "execution_count": 30,
   "id": "cdff3714-bd48-4379-a076-85407789bc13",
   "metadata": {},
   "outputs": [
    {
     "name": "stdout",
     "output_type": "stream",
     "text": [
      "{'custom_key': 'custom_value'}\n"
     ]
    }
   ],
   "source": [
    "for chunk in runnable.stream({\"message\": \"Lam\"},stream_mode=\"custom\"):\n",
    "    print(chunk)"
   ]
  },
  {
   "cell_type": "code",
   "execution_count": 31,
   "id": "6ac3db43-8375-4b69-a1ef-389629124893",
   "metadata": {},
   "outputs": [
    {
     "name": "stdout",
     "output_type": "stream",
     "text": [
      "{'type': 'task', 'timestamp': '2025-06-04T11:52:07.536055+00:00', 'step': 1, 'payload': {'id': 'c6d81771-d4f2-ad56-12a7-0390723c91cf', 'name': 'hello', 'input': {'message': 'Lam'}, 'triggers': ('branch:to:hello',)}}\n",
      "{'type': 'task_result', 'timestamp': '2025-06-04T11:52:07.537055+00:00', 'step': 1, 'payload': {'id': 'c6d81771-d4f2-ad56-12a7-0390723c91cf', 'name': 'hello', 'error': None, 'result': [('message', 'Hello Lam')], 'interrupts': []}}\n",
      "{'type': 'task', 'timestamp': '2025-06-04T11:52:07.538061+00:00', 'step': 2, 'payload': {'id': 'ae46186b-8e1f-d8e2-477f-c9d27905c3b6', 'name': 'bye', 'input': {'message': 'Hello Lam'}, 'triggers': ('branch:to:bye',)}}\n",
      "{'type': 'task_result', 'timestamp': '2025-06-04T11:52:07.538061+00:00', 'step': 2, 'payload': {'id': 'ae46186b-8e1f-d8e2-477f-c9d27905c3b6', 'name': 'bye', 'error': None, 'result': [('message', 'Bye Hello Lam')], 'interrupts': []}}\n"
     ]
    }
   ],
   "source": [
    "for chunk in runnable.stream({\"message\": \"Lam\"},stream_mode=\"debug\"):\n",
    "    print(chunk)"
   ]
  },
  {
   "cell_type": "code",
   "execution_count": 32,
   "id": "332b7b48-4056-417a-a6e6-55cbca493c27",
   "metadata": {},
   "outputs": [],
   "source": [
    "for chunk in runnable.stream({\"message\": \"Lam\"},stream_mode=\"messages\"):\n",
    "    print(chunk) # Ko in ra gi vi mode=messages dung cho LLM"
   ]
  }
 ],
 "metadata": {
  "kernelspec": {
   "display_name": "Python 3 (ipykernel)",
   "language": "python",
   "name": "python3"
  },
  "language_info": {
   "codemirror_mode": {
    "name": "ipython",
    "version": 3
   },
   "file_extension": ".py",
   "mimetype": "text/x-python",
   "name": "python",
   "nbconvert_exporter": "python",
   "pygments_lexer": "ipython3",
   "version": "3.10.16"
  }
 },
 "nbformat": 4,
 "nbformat_minor": 5
}
