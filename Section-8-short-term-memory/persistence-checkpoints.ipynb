{
 "cells": [
  {
   "cell_type": "code",
   "execution_count": 6,
   "id": "4cd05766-19e4-408a-9bff-e05b9690cf16",
   "metadata": {},
   "outputs": [
    {
     "data": {
      "image/png": "[encoded data removed]",
      "text/plain": [
       "<IPython.core.display.Image object>"
      ]
     },
     "metadata": {},
     "output_type": "display_data"
    },
    {
     "data": {
      "text/plain": [
       "{'foo': 'b', 'bar': ['a', 'b']}"
      ]
     },
     "execution_count": 6,
     "metadata": {},
     "output_type": "execute_result"
    }
   ],
   "source": [
    "from langgraph.graph import StateGraph, START, END\n",
    "from langgraph.checkpoint.memory import InMemorySaver\n",
    "from typing import Annotated\n",
    "from typing_extensions import TypedDict\n",
    "from operator import add\n",
    "from IPython.display import Image, display\n",
    "\n",
    "\"\"\"\n",
    "1. Định nghĩa State & Reducer\n",
    "State là kiểu dictionary với 2 trường:\n",
    "- foo: string (chuỗi)\n",
    "- bar: list of string, nhưng đặc biệt có thêm reducer là add (tức là mỗi lần update, sẽ cộng dồn/nối list thay vì ghi đè)\n",
    "\"\"\"\n",
    "class State(TypedDict):\n",
    "    foo: str\n",
    "    bar: Annotated[list[str], add]\n",
    "\"\"\"\n",
    "2. Định nghĩa các node\n",
    "- node_a: luôn trả về foo=\"a\" và bar=[\"a\"].\n",
    "- node_b: luôn trả về foo=\"b\" và bar=[\"b\"].\n",
    "\"\"\"\n",
    "def node_a(state: State):\n",
    "    return {\"foo\": \"a\", \"bar\": [\"a\"]}\n",
    "\n",
    "def node_b(state: State):\n",
    "    return {\"foo\": \"b\", \"bar\": [\"b\"]}\n",
    "\n",
    "\"\"\"\n",
    "3. Xây dựng workflow\n",
    "Tạo workflow: START → node_a → node_b → END\n",
    "\"\"\"\n",
    "workflow = StateGraph(State)\n",
    "workflow.add_node(node_a)\n",
    "workflow.add_node(node_b)\n",
    "workflow.add_edge(START, \"node_a\")\n",
    "workflow.add_edge(\"node_a\", \"node_b\")\n",
    "workflow.add_edge(\"node_b\", END)\n",
    "\n",
    "\"\"\"\n",
    "4. Thêm checkpointer\n",
    "- Sử dụng InMemorySaver để lưu trạng thái (state) của từng bước vào bộ nhớ (RAM).\n",
    "- Cho phép bạn giữ lại state, hoặc khôi phục workflow với thread_id bất kỳ.\n",
    "\"\"\"\n",
    "checkpointer = InMemorySaver()\n",
    "graph = workflow.compile(checkpointer=checkpointer)\n",
    "\n",
    "## Display graph\n",
    "try:\n",
    "    display(Image(graph.get_graph().draw_png()))\n",
    "except Exception:\n",
    "    pass\n",
    "\"\"\"\n",
    "5. Chạy workflow\n",
    "- Bắt đầu với state ban đầu: {\"foo\": \"\"} (không có bar).\n",
    "- config có thread_id giúp xác định một session/workflow duy nhất.\n",
    "\"\"\"\n",
    "config = {\"configurable\": {\"thread_id\": \"1\"}}\n",
    "\n",
    "graph.invoke({\"foo\": \"\"}, config)"
   ]
  },
  {
   "cell_type": "markdown",
   "id": "ec8e415e-c6a8-4710-b3b6-8e4e368e82d0",
   "metadata": {},
   "source": [
    "Bước 1: START → node_a\n",
    "\n",
    "- Nhận input state: {\"foo\": \"\"}.\n",
    "\n",
    "- Trả về: {\"foo\": \"a\", \"bar\": [\"a\"]}.\n",
    "\n",
    "- Lúc này state:\n",
    "{\"foo\": \"a\", \"bar\": [\"a\"]}\n",
    "\n",
    "Bước 2: node_a → node_b\n",
    "\n",
    "- Nhận state: {\"foo\": \"a\", \"bar\": [\"a\"]}.\n",
    "\n",
    "- node_b trả về: {\"foo\": \"b\", \"bar\": [\"b\"]}\n",
    "\n",
    "- Reducer hoạt động:\n",
    "\n",
    "    - foo (không có reducer): bị ghi đè thành \"b\"\n",
    "\n",
    "    - bar (dùng reducer add): [\"a\"] + [\"b\"] = [\"a\", \"b\"]\n",
    "- State sau khi chạy xong:\n",
    "{\"foo\": \"b\", \"bar\": [\"a\", \"b\"]}"
   ]
  },
  {
   "cell_type": "code",
   "execution_count": 7,
   "id": "9227182a-81b7-4049-bf44-32f1a67f534b",
   "metadata": {},
   "outputs": [
    {
     "name": "stdout",
     "output_type": "stream",
     "text": [
      "StateSnapshot(values={'foo': 'b', 'bar': ['a', 'b']}, next=(), config={'configurable': {'thread_id': '1', 'checkpoint_ns': '', 'checkpoint_id': '1f042d40-847b-676f-8002-f67e72a257de'}}, metadata={'source': 'loop', 'writes': {'node_b': {'foo': 'b', 'bar': ['b']}}, 'step': 2, 'parents': {}, 'thread_id': '1'}, created_at='2025-06-06T12:44:48.790308+00:00', parent_config={'configurable': {'thread_id': '1', 'checkpoint_ns': '', 'checkpoint_id': '1f042d40-847b-676e-8001-404a35ad9219'}}, tasks=(), interrupts=())\n",
      "[StateSnapshot(values={'foo': 'b', 'bar': ['a', 'b']}, next=(), config={'configurable': {'thread_id': '1', 'checkpoint_ns': '', 'checkpoint_id': '1f042d40-847b-676f-8002-f67e72a257de'}}, metadata={'source': 'loop', 'writes': {'node_b': {'foo': 'b', 'bar': ['b']}}, 'step': 2, 'parents': {}, 'thread_id': '1'}, created_at='2025-06-06T12:44:48.790308+00:00', parent_config={'configurable': {'thread_id': '1', 'checkpoint_ns': '', 'checkpoint_id': '1f042d40-847b-676e-8001-404a35ad9219'}}, tasks=(), interrupts=()), StateSnapshot(values={'foo': 'a', 'bar': ['a']}, next=('node_b',), config={'configurable': {'thread_id': '1', 'checkpoint_ns': '', 'checkpoint_id': '1f042d40-847b-676e-8001-404a35ad9219'}}, metadata={'source': 'loop', 'writes': {'node_a': {'foo': 'a', 'bar': ['a']}}, 'step': 1, 'parents': {}, 'thread_id': '1'}, created_at='2025-06-06T12:44:48.790308+00:00', parent_config={'configurable': {'thread_id': '1', 'checkpoint_ns': '', 'checkpoint_id': '1f042d40-8479-606f-8000-98d299716b48'}}, tasks=(PregelTask(id='a372d3cb-f0dc-37f3-32c7-1d8f0c7b09e3', name='node_b', path=('__pregel_pull', 'node_b'), error=None, interrupts=(), state=None, result={'foo': 'b', 'bar': ['b']}),), interrupts=()), StateSnapshot(values={'foo': '', 'bar': []}, next=('node_a',), config={'configurable': {'thread_id': '1', 'checkpoint_ns': '', 'checkpoint_id': '1f042d40-8479-606f-8000-98d299716b48'}}, metadata={'source': 'loop', 'writes': None, 'step': 0, 'parents': {}, 'thread_id': '1'}, created_at='2025-06-06T12:44:48.789310+00:00', parent_config={'configurable': {'thread_id': '1', 'checkpoint_ns': '', 'checkpoint_id': '1f042d40-8474-621f-bfff-b3abb969e415'}}, tasks=(PregelTask(id='05d1ca3a-7fea-6af4-d7bc-3eccff909267', name='node_a', path=('__pregel_pull', 'node_a'), error=None, interrupts=(), state=None, result={'foo': 'a', 'bar': ['a']}),), interrupts=()), StateSnapshot(values={'bar': []}, next=('__start__',), config={'configurable': {'thread_id': '1', 'checkpoint_ns': '', 'checkpoint_id': '1f042d40-8474-621f-bfff-b3abb969e415'}}, metadata={'source': 'input', 'writes': {'__start__': {'foo': ''}}, 'step': -1, 'parents': {}, 'thread_id': '1'}, created_at='2025-06-06T12:44:48.787305+00:00', parent_config=None, tasks=(PregelTask(id='9438089c-2efb-a893-2953-16c64793df21', name='__start__', path=('__pregel_pull', '__start__'), error=None, interrupts=(), state=None, result={'foo': ''}),), interrupts=())]\n"
     ]
    }
   ],
   "source": [
    "print(graph.get_state(config))\n",
    "print(list(graph.get_state_history(config)))"
   ]
  }
 ],
 "metadata": {
  "kernelspec": {
   "display_name": "Python 3 (ipykernel)",
   "language": "python",
   "name": "python3"
  },
  "language_info": {
   "codemirror_mode": {
    "name": "ipython",
    "version": 3
   },
   "file_extension": ".py",
   "mimetype": "text/x-python",
   "name": "python",
   "nbconvert_exporter": "python",
   "pygments_lexer": "ipython3",
   "version": "3.10.16"
  }
 },
 "nbformat": 4,
 "nbformat_minor": 5
}
