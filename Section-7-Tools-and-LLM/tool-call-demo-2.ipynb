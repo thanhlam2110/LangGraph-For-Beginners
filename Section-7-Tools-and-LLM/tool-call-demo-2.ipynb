{
 "cells": [
  {
   "cell_type": "code",
   "execution_count": 13,
   "id": "8587103f-9f69-4c64-b9d5-b7ab49a48535",
   "metadata": {},
   "outputs": [
    {
     "name": "stdout",
     "output_type": "stream",
     "text": [
      "Step 1, tool_call: content='' additional_kwargs={'tool_calls': [{'id': 'call_rnbgpgMdlKRDGKhrYMYTdFu7', 'function': {'arguments': '{\"location\":\"Munich\"}', 'name': 'get_restaurant_recommendations'}, 'type': 'function'}], 'refusal': None} response_metadata={'token_usage': {'completion_tokens': 19, 'prompt_tokens': 59, 'total_tokens': 78, 'completion_tokens_details': {'accepted_prediction_tokens': 0, 'audio_tokens': 0, 'reasoning_tokens': 0, 'rejected_prediction_tokens': 0}, 'prompt_tokens_details': {'audio_tokens': 0, 'cached_tokens': 0}}, 'model_name': 'gpt-3.5-turbo-0125', 'system_fingerprint': None, 'finish_reason': 'tool_calls', 'logprobs': None} id='run-5eb138cc-c546-4a43-bdeb-32b0d87ad485-0' tool_calls=[{'name': 'get_restaurant_recommendations', 'args': {'location': 'Munich'}, 'id': 'call_rnbgpgMdlKRDGKhrYMYTdFu7', 'type': 'tool_call'}] usage_metadata={'input_tokens': 59, 'output_tokens': 19, 'total_tokens': 78, 'input_token_details': {'audio': 0, 'cache_read': 0}, 'output_token_details': {'audio': 0, 'reasoning': 0}}\n",
      "tool_args:  {'location': 'Munich'}\n",
      "tool_call_id:  call_rnbgpgMdlKRDGKhrYMYTdFu7\n",
      "tool_result:  ['Hofbräuhaus', 'Augustiner-Keller', 'Tantris']\n",
      "Step 2, tool_result: ['Hofbräuhaus', 'Augustiner-Keller', 'Tantris']\n",
      "tool_msg:  content=\"['Hofbräuhaus', 'Augustiner-Keller', 'Tantris']\" tool_call_id='call_rnbgpgMdlKRDGKhrYMYTdFu7'\n",
      "messages2:  [HumanMessage(content='Recommend some restaurants in Munich.', additional_kwargs={}, response_metadata={}), AIMessage(content='', additional_kwargs={'tool_calls': [{'id': 'call_rnbgpgMdlKRDGKhrYMYTdFu7', 'function': {'arguments': '{\"location\":\"Munich\"}', 'name': 'get_restaurant_recommendations'}, 'type': 'function'}], 'refusal': None}, response_metadata={'token_usage': {'completion_tokens': 19, 'prompt_tokens': 59, 'total_tokens': 78, 'completion_tokens_details': {'accepted_prediction_tokens': 0, 'audio_tokens': 0, 'reasoning_tokens': 0, 'rejected_prediction_tokens': 0}, 'prompt_tokens_details': {'audio_tokens': 0, 'cached_tokens': 0}}, 'model_name': 'gpt-3.5-turbo-0125', 'system_fingerprint': None, 'finish_reason': 'tool_calls', 'logprobs': None}, id='run-5eb138cc-c546-4a43-bdeb-32b0d87ad485-0', tool_calls=[{'name': 'get_restaurant_recommendations', 'args': {'location': 'Munich'}, 'id': 'call_rnbgpgMdlKRDGKhrYMYTdFu7', 'type': 'tool_call'}], usage_metadata={'input_tokens': 59, 'output_tokens': 19, 'total_tokens': 78, 'input_token_details': {'audio': 0, 'cache_read': 0}, 'output_token_details': {'audio': 0, 'reasoning': 0}}), ToolMessage(content=\"['Hofbräuhaus', 'Augustiner-Keller', 'Tantris']\", tool_call_id='call_rnbgpgMdlKRDGKhrYMYTdFu7')]\n",
      "final_output:  content='Here are some restaurant recommendations in Munich:\\n1. Hofbräuhaus\\n2. Augustiner-Keller\\n3. Tantris\\n\\nEnjoy your dining experience in Munich!' additional_kwargs={'refusal': None} response_metadata={'token_usage': {'completion_tokens': 37, 'prompt_tokens': 108, 'total_tokens': 145, 'completion_tokens_details': {'accepted_prediction_tokens': 0, 'audio_tokens': 0, 'reasoning_tokens': 0, 'rejected_prediction_tokens': 0}, 'prompt_tokens_details': {'audio_tokens': 0, 'cached_tokens': 0}}, 'model_name': 'gpt-3.5-turbo-0125', 'system_fingerprint': None, 'finish_reason': 'stop', 'logprobs': None} id='run-af9e727a-f1fc-4388-8208-e4b43e8805ce-0' usage_metadata={'input_tokens': 108, 'output_tokens': 37, 'total_tokens': 145, 'input_token_details': {'audio': 0, 'cache_read': 0}, 'output_token_details': {'audio': 0, 'reasoning': 0}}\n",
      "Final answer for user: Here are some restaurant recommendations in Munich:\n",
      "1. Hofbräuhaus\n",
      "2. Augustiner-Keller\n",
      "3. Tantris\n",
      "\n",
      "Enjoy your dining experience in Munich!\n"
     ]
    }
   ],
   "source": [
    "from langchain_openai import ChatOpenAI\n",
    "from langchain_core.messages import HumanMessage, ToolMessage\n",
    "from langchain_core.tools import tool\n",
    "from dotenv import load_dotenv\n",
    "from langchain_core.messages import ToolMessage\n",
    "import json\n",
    "load_dotenv()\n",
    "\n",
    "@tool\n",
    "def get_restaurant_recommendations(location: str):\n",
    "    \"\"\"Provides a list of top restaurant recommendations for a given location.\"\"\"\n",
    "    recommendations = {\n",
    "        \"munich\": [\"Hofbräuhaus\", \"Augustiner-Keller\", \"Tantris\"],\n",
    "        \"new york\": [\"Le Bernardin\", \"Eleven Madison Park\", \"Joe's Pizza\"],\n",
    "        \"paris\": [\"Le Meurice\", \"L'Ambroisie\", \"Bistrot Paul Bert\"],\n",
    "    }\n",
    "    return recommendations.get(location.lower(), [\"No recommendations available for this location.\"])\n",
    "\n",
    "\n",
    "tools = [get_restaurant_recommendations]\n",
    "llm = ChatOpenAI()\n",
    "llm_with_tools = llm.bind_tools(tools)\n",
    "\n",
    "messages = [\n",
    "    HumanMessage(\"Recommend some restaurants in Munich.\")\n",
    "]\n",
    "\n",
    "llm_output = llm_with_tools.invoke(messages)\n",
    "\n",
    "print(f\"Step 1, tool_call: {llm_output}\")\n",
    "\n",
    "tool_args = llm_output.tool_calls[0]['args']           # {'location': 'Munich'}\n",
    "print(\"tool_args: \",tool_args)\n",
    "tool_call_id = llm_output.tool_calls[0]['id']\n",
    "print(\"tool_call_id: \",tool_call_id)\n",
    "\n",
    "tool_result = get_restaurant_recommendations(tool_args)\n",
    "print(\"tool_result: \",tool_result)\n",
    "print(f\"Step 2, tool_result: {tool_result}\")\n",
    "\n",
    "\n",
    "tool_msg = ToolMessage(\n",
    "    tool_call_id=tool_call_id,\n",
    "    content=str(tool_result)\n",
    ")\n",
    "print(\"tool_msg: \", tool_msg)\n",
    "\n",
    "messages2 = messages + [llm_output] + [tool_msg]\n",
    "print(\"messages2: \",messages2)\n",
    "\n",
    "final_output = llm_with_tools.invoke(messages2)\n",
    "print(\"final_output: \",final_output)\n",
    "print(f\"Final answer for user: {final_output.content}\")\n",
    "\n"
   ]
  }
 ],
 "metadata": {
  "kernelspec": {
   "display_name": "Python 3 (ipykernel)",
   "language": "python",
   "name": "python3"
  },
  "language_info": {
   "codemirror_mode": {
    "name": "ipython",
    "version": 3
   },
   "file_extension": ".py",
   "mimetype": "text/x-python",
   "name": "python",
   "nbconvert_exporter": "python",
   "pygments_lexer": "ipython3",
   "version": "3.10.16"
  }
 },
 "nbformat": 4,
 "nbformat_minor": 5
}
