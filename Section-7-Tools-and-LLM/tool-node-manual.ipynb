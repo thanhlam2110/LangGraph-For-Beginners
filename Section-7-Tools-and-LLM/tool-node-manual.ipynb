{
 "cells": [
  {
   "cell_type": "code",
   "execution_count": 3,
   "id": "929a8bb5-f626-465e-bf23-0077f6a5f4a4",
   "metadata": {},
   "outputs": [
    {
     "name": "stdout",
     "output_type": "stream",
     "text": [
      "message_with_tool_call:  content='' additional_kwargs={} response_metadata={} tool_calls=[{'name': 'get_restaurant_recommendations', 'args': {'location': 'Munich'}, 'id': 'abc123', 'type': 'tool_call'}]\n",
      "{'messages': [ToolMessage(content='[\"Hofbräuhaus\", \"Augustiner-Keller\", \"Tantris\"]', name='get_restaurant_recommendations', tool_call_id='abc123')]}\n"
     ]
    }
   ],
   "source": [
    "from langchain_core.tools import tool\n",
    "from langgraph.prebuilt import ToolNode\n",
    "from langchain_core.messages import AIMessage\n",
    "\n",
    "\n",
    "@tool\n",
    "def get_restaurant_recommendations(location: str):\n",
    "    \"\"\"Provides a list of top restaurant recommendations for a given location.\"\"\"\n",
    "    recommendations = {\n",
    "        \"munich\": [\"Hofbräuhaus\", \"Augustiner-Keller\", \"Tantris\"],\n",
    "        \"new york\": [\"Le Bernardin\", \"Eleven Madison Park\", \"Joe's Pizza\"],\n",
    "        \"paris\": [\"Le Meurice\", \"L'Ambroisie\", \"Bistrot Paul Bert\"],\n",
    "    }\n",
    "    return recommendations.get(location.lower(), [\"No recommendations available for this location.\"])\n",
    "\n",
    "\n",
    "tools = [get_restaurant_recommendations]\n",
    "tool_node = ToolNode(tools)\n",
    "\n",
    "\n",
    "# TODO: Create an AIMessage for the tool call\n",
    "# Dua vao ket qua cua code tool-calling-demo.ipynb de biet cach dien thong tin cho AIMessage()\n",
    "# content='' \n",
    "# additional_kwargs={'tool_calls': [{'id': 'call_6OM9HJfCRY83qbfJTAHf3B87', 'function': {'arguments': '{\"location\":\"Munich\"}', 'name': 'get_restaurant_recommendations'}, 'type': 'function'}], 'refusal': None} \n",
    "# response_metadata={'token_usage': {'completion_tokens': 19, 'prompt_tokens': 59, 'total_tokens': 78, 'completion_tokens_details': {'accepted_prediction_tokens': 0, 'audio_tokens': 0, 'reasoning_tokens': 0, 'rejected_prediction_tokens': 0}, 'prompt_tokens_details': {'audio_tokens': 0, 'cached_tokens': 0}}, 'model_name': 'gpt-3.5-turbo-0125', 'system_fingerprint': None, 'finish_reason': 'tool_calls', 'logprobs': None} id='run-e9671cd8-2feb-4ee9-a180-b8e36b2216e9-0' \n",
    "# tool_calls=[{'name': 'get_restaurant_recommendations', 'args': {'location': 'Munich'}, 'id': 'call_6OM9HJfCRY83qbfJTAHf3B87', 'type': 'tool_call'}] \n",
    "# usage_metadata={'input_tokens': 59, 'output_tokens': 19, 'total_tokens': 78, 'input_token_details': {'audio': 0, 'cache_read': 0}, 'output_token_details': {'audio': 0, 'reasoning': 0}}\n",
    "\n",
    "message_with_tool_call = AIMessage(content=\"\",\n",
    "                                   tool_calls=[{'name': 'get_restaurant_recommendations',\n",
    "                                                'args': {'location': 'Munich'},\n",
    "                                                'id': 'abc123',\n",
    "                                                'type': 'tool_call'}])\n",
    "print(\"message_with_tool_call: \",message_with_tool_call)\n",
    "\n",
    "# TODO: Invoke the ToolNode with the state and get the result\n",
    "\n",
    "result = tool_node.invoke({\"messages\": [message_with_tool_call]})\n",
    "\n",
    "\n",
    "# TODO: Output the result\n",
    "print(result)\n"
   ]
  }
 ],
 "metadata": {
  "kernelspec": {
   "display_name": "Python 3 (ipykernel)",
   "language": "python",
   "name": "python3"
  },
  "language_info": {
   "codemirror_mode": {
    "name": "ipython",
    "version": 3
   },
   "file_extension": ".py",
   "mimetype": "text/x-python",
   "name": "python",
   "nbconvert_exporter": "python",
   "pygments_lexer": "ipython3",
   "version": "3.10.16"
  }
 },
 "nbformat": 4,
 "nbformat_minor": 5
}
