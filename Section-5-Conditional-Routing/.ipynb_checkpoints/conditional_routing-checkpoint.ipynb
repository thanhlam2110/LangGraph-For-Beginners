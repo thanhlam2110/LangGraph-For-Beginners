{
 "cells": [
  {
   "cell_type": "code",
   "execution_count": 26,
   "id": "848341c8-6511-4470-883c-533304a98fd6",
   "metadata": {},
   "outputs": [
    {
     "data": {
      "image/png": "[encoded data removed]",
      "text/plain": [
       "<IPython.core.display.Image object>"
      ]
     },
     "metadata": {},
     "output_type": "display_data"
    }
   ],
   "source": [
    "from typing import TypedDict\n",
    "from langgraph.graph import END, START, StateGraph\n",
    "from IPython.display import Image, display\n",
    "\n",
    "# Define the structure of the input state (customer support request)\n",
    "class SupportRequest(TypedDict):\n",
    "    message: str\n",
    "    priority: int  # 1 (high), 2 (medium), 3 (low)\n",
    "\n",
    "\n",
    "# Function to categorize the support request\n",
    "def categorize_request(request: SupportRequest):\n",
    "    print(f\"Received request: {request}\")\n",
    "    # TODO: Implement Conditional Routing\n",
    "    if \"urgent\" in request['message'].lower() or request['priority'] == 1:\n",
    "        return \"urgent\"\n",
    "    return \"standard\"\n",
    "\n",
    "\n",
    "# Function to process high-priority requests\n",
    "def handle_urgent(request: SupportRequest):\n",
    "    print(f\"Routing to Urgent Support Team: {request}\")\n",
    "    return request\n",
    "\n",
    "\n",
    "# Function to process standard requests\n",
    "def handle_standard(request: SupportRequest):\n",
    "    print(f\"Routing to Standard Support Queue: {request}\")\n",
    "    return request\n",
    "\n",
    "\n",
    "# Create the state graph\n",
    "graph = StateGraph(SupportRequest)\n",
    "# TODO: Create the graph\n",
    "graph.add_node(\"urgent\",handle_urgent)\n",
    "graph.add_node(\"standard\",handle_standard)\n",
    "\n",
    "graph.add_conditional_edges(START,categorize_request)\n",
    "graph.add_edge(\"urgent\",END)\n",
    "graph.add_edge(\"standard\",END)\n",
    "\n",
    "runnable = graph.compile()\n",
    "\n",
    "## Display graph\n",
    "try:\n",
    "    display(Image(runnable.get_graph().draw_png()))\n",
    "except Exception:\n",
    "    pass\n"
   ]
  },
  {
   "cell_type": "code",
   "execution_count": 27,
   "id": "8a872470-8c13-4c61-ad52-7132cd10936b",
   "metadata": {},
   "outputs": [
    {
     "name": "stdout",
     "output_type": "stream",
     "text": [
      "Received request: {'message': 'My account was hacked! Urgent help needed.', 'priority': 1}\n",
      "Routing to Urgent Support Team: {'message': 'My account was hacked! Urgent help needed.', 'priority': 1}\n",
      "{'message': 'My account was hacked! Urgent help needed.', 'priority': 1}\n"
     ]
    }
   ],
   "source": [
    "# Simulate a customer support request\n",
    "print(runnable.invoke({\"message\": \"My account was hacked! Urgent help needed.\", \"priority\": 1}))"
   ]
  },
  {
   "cell_type": "code",
   "execution_count": 28,
   "id": "f5263580-1828-4da9-961f-9b08b3861d61",
   "metadata": {},
   "outputs": [
    {
     "name": "stdout",
     "output_type": "stream",
     "text": [
      "Received request: {'message': 'I need help with password reset.', 'priority': 3}\n",
      "Routing to Standard Support Queue: {'message': 'I need help with password reset.', 'priority': 3}\n",
      "{'message': 'I need help with password reset.', 'priority': 3}\n"
     ]
    }
   ],
   "source": [
    "print(runnable.invoke({\"message\": \"I need help with password reset.\", \"priority\": 3}))"
   ]
  },
  {
   "cell_type": "code",
   "execution_count": 29,
   "id": "a0a536c8-e60a-4d07-8d63-afcd2714df0d",
   "metadata": {},
   "outputs": [
    {
     "name": "stdout",
     "output_type": "stream",
     "text": [
      "Received request: {'message': 'I need help with password reset.', 'priority': 3}\n",
      "{'type': 'task', 'timestamp': '2025-06-04T12:25:33.861776+00:00', 'step': 1, 'payload': {'id': '21e4d9ae-ae24-961f-f257-b1e1fa0d84af', 'name': 'standard', 'input': {'message': 'I need help with password reset.', 'priority': 3}, 'triggers': ('branch:to:standard',)}}\n",
      "Routing to Standard Support Queue: {'message': 'I need help with password reset.', 'priority': 3}\n",
      "{'type': 'task_result', 'timestamp': '2025-06-04T12:25:33.862776+00:00', 'step': 1, 'payload': {'id': '21e4d9ae-ae24-961f-f257-b1e1fa0d84af', 'name': 'standard', 'error': None, 'result': [('message', 'I need help with password reset.'), ('priority', 3)], 'interrupts': []}}\n"
     ]
    }
   ],
   "source": [
    "for chunk in runnable.stream({\"message\": \"I need help with password reset.\", \"priority\": 3},stream_mode=\"debug\"):\n",
    "    print(chunk)"
   ]
  }
 ],
 "metadata": {
  "kernelspec": {
   "display_name": "Python 3 (ipykernel)",
   "language": "python",
   "name": "python3"
  },
  "language_info": {
   "codemirror_mode": {
    "name": "ipython",
    "version": 3
   },
   "file_extension": ".py",
   "mimetype": "text/x-python",
   "name": "python",
   "nbconvert_exporter": "python",
   "pygments_lexer": "ipython3",
   "version": "3.10.16"
  }
 },
 "nbformat": 4,
 "nbformat_minor": 5
}
